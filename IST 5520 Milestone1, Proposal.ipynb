{
 "cells": [
  {
   "cell_type": "markdown",
   "id": "8b8378c5",
   "metadata": {},
   "source": [
    "IST 5520 Milestone 1: Proposal <br />\n",
    "9/24/2022 <br />\n",
    "By: Alaina Martens, Aaron Tucker, Kwamena Ato Quainoo, Oluwatosin Martins Waleola <br />\n",
    "\n",
    "Introduction (background, business settings and scenarios etc.): <br />\n",
    "Literature Review (a brief review of at least three peer-reviewed articles relevant to your project): <br />\n",
    "Research Questions (what problems you intend to solve with the selected dataset): <br />\n",
    "Data (specify data source; provide a data dictionary explaining the meaning of all columns; explain why the dataset is appropriate for addressing your research questions) : <br />\n",
    "Conclusion: <br />\n",
    "\n",
    "\n"
   ]
  },
  {
   "cell_type": "code",
   "execution_count": null,
   "id": "405380b9",
   "metadata": {},
   "outputs": [],
   "source": []
  }
 ],
 "metadata": {
  "kernelspec": {
   "display_name": "Python 3 (ipykernel)",
   "language": "python",
   "name": "python3"
  },
  "language_info": {
   "codemirror_mode": {
    "name": "ipython",
    "version": 3
   },
   "file_extension": ".py",
   "mimetype": "text/x-python",
   "name": "python",
   "nbconvert_exporter": "python",
   "pygments_lexer": "ipython3",
   "version": "3.10.7"
  }
 },
 "nbformat": 4,
 "nbformat_minor": 5
}
